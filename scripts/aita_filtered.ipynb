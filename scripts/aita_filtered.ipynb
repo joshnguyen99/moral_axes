{
 "cells": [
  {
   "cell_type": "code",
   "execution_count": 1,
   "id": "ee6b9549",
   "metadata": {},
   "outputs": [],
   "source": [
    "import numpy as np\n",
    "import pandas as pd\n",
    "import matplotlib.pyplot as plt\n",
    "from tqdm import tqdm\n",
    "import seaborn as sns\n",
    "import numpy as np"
   ]
  },
  {
   "cell_type": "code",
   "execution_count": 2,
   "id": "c689784e",
   "metadata": {},
   "outputs": [],
   "source": [
    "FOUNDATIONS = [\"authority\", \"care\", \"fairness\", \"loyalty\", \"sanctity\"]\n",
    "COLORS = [\"darkviolet\", \"mediumblue\", \"mediumseagreen\", \"indianred\", \"goldenrod\"]"
   ]
  },
  {
   "cell_type": "markdown",
   "id": "bd7fbd5c",
   "metadata": {},
   "source": [
    "## Create AITA Filtered dataset"
   ]
  },
  {
   "cell_type": "markdown",
   "id": "eff3d911",
   "metadata": {},
   "source": [
    "### Find posts that satisfy the \"AITA Filtered\" condition"
   ]
  },
  {
   "cell_type": "code",
   "execution_count": 23,
   "id": "5cc12d74",
   "metadata": {},
   "outputs": [],
   "source": [
    "from pymongo import MongoClient\n",
    "HOST = \"localhost\"\n",
    "PORT = 27017\n",
    "client = MongoClient(host=HOST, port=PORT)\n",
    "db = client.reddit\n",
    "subs = db.submissions\n",
    "cmts = db.comments"
   ]
  },
  {
   "cell_type": "code",
   "execution_count": 30,
   "id": "da4988c1",
   "metadata": {},
   "outputs": [
    {
     "name": "stderr",
     "output_type": "stream",
     "text": [
      "100%|██████████████████████████████████| 148691/148691 [05:26<00:00, 455.92it/s]\n"
     ]
    }
   ],
   "source": [
    "from datetime import datetime, timedelta\n",
    "from tqdm import tqdm\n",
    "\n",
    "columns = [\"_id\", \"title\", \"selftext\", \"score\", \"YTA_count\", \"NTA_count\", \"ESH_count\", \"NAH_count\"]\n",
    "rows = []\n",
    "\n",
    "for sub in tqdm(subs.find(), total=subs.count_documents({})):\n",
    "    filtered = False\n",
    "    post_id = sub[\"_id\"]\n",
    "    sub_time = sub[\"created_utc\"]\n",
    "    judgment_counts = {\"YTA\": 0, \"NTA\": 0, \"ESH\": 0, \"NAH\": 0}\n",
    "    top_judgment_scores = {\"YTA\": 0, \"NTA\": 0, \"ESH\": 0, \"NAH\": 0}\n",
    "    top_judgment_ids = {\"YTA\": None, \"NTA\": None, \"ESH\": None, \"NAH\": None}\n",
    "    \n",
    "    # Must be retrieved at least 18 hours after the post was created\n",
    "    if sub[\"retrieved_on\"] - sub[\"created_utc\"] <= timedelta(hours=18): \n",
    "        continue\n",
    "    \n",
    "    # Only search for top level comments with a judgment label\n",
    "    for cmt in cmts.find({\"parent_id\": post_id, \n",
    "                          \"label\": {\"$in\": [\"NTA\", \"YTA\", \"ESH\", \"NAH\"]}}):\n",
    "        \n",
    "        # Only include comments in the first 18 hours\n",
    "        time_delta = cmt[\"created_utc\"] - sub[\"created_utc\"]\n",
    "        if time_delta > timedelta(hours=18):\n",
    "            continue\n",
    "        \n",
    "        # Extract label\n",
    "        label = cmt[\"label\"]\n",
    "        judgment_counts[label] += 1\n",
    "    \n",
    "    # Group NA and YA\n",
    "    na = judgment_counts[\"NTA\"] + judgment_counts[\"NAH\"]\n",
    "    ya = judgment_counts[\"YTA\"] + judgment_counts[\"ESH\"]\n",
    "    tot = na + ya\n",
    "    \n",
    "    # Must have at least 50 judgments and must be balanced (<= 70%)\n",
    "    if tot >= 50 and na < 0.7 * tot and ya < 0.7 * tot:\n",
    "        filtered = True\n",
    "    \n",
    "    if filtered:\n",
    "        rows.append([sub[\"_id\"], \n",
    "                     sub[\"title\"], \n",
    "                     sub[\"selftext\"], \n",
    "                     sub[\"score\"],\n",
    "                     judgment_counts[\"YTA\"],\n",
    "                     judgment_counts[\"NTA\"],\n",
    "                     judgment_counts[\"ESH\"],\n",
    "                     judgment_counts[\"NAH\"]])"
   ]
  },
  {
   "cell_type": "code",
   "execution_count": 32,
   "id": "9e952e07",
   "metadata": {},
   "outputs": [],
   "source": [
    "aitaf_posts = pd.DataFrame(rows, columns=columns)\n",
    "aitaf_posts.set_index(\"_id\", inplace=True)"
   ]
  },
  {
   "cell_type": "code",
   "execution_count": 33,
   "id": "4c678b8b",
   "metadata": {},
   "outputs": [
    {
     "data": {
      "text/plain": [
       "(2250, 7)"
      ]
     },
     "execution_count": 33,
     "metadata": {},
     "output_type": "execute_result"
    }
   ],
   "source": [
    "aitaf_posts.shape"
   ]
  },
  {
   "cell_type": "markdown",
   "id": "2faf6017",
   "metadata": {},
   "source": [
    "### Find all top-level comments for these posts"
   ]
  },
  {
   "cell_type": "code",
   "execution_count": 34,
   "id": "a9d6a6e7",
   "metadata": {},
   "outputs": [
    {
     "name": "stderr",
     "output_type": "stream",
     "text": [
      "100%|███████████████████████████████████████| 2250/2250 [00:34<00:00, 64.57it/s]\n"
     ]
    }
   ],
   "source": [
    "columns = [\"verdict_id\", \"link_id\", \"parent_id\", \"score\", \"body\", \"label\"]\n",
    "rows = []\n",
    "\n",
    "for post_id in tqdm(aitaf_posts.index):\n",
    "    sub = subs.find_one({\"_id\": post_id})\n",
    "    # Only search for top level comments with a judgment label\n",
    "    for cmt in cmts.find({\"parent_id\": post_id, \n",
    "                          \"label\": {\"$in\": [\"NTA\", \"YTA\", \"ESH\", \"NAH\"]}}):\n",
    "        # Only include comments in the first 18 hours\n",
    "        time_delta = cmt[\"created_utc\"] - sub[\"created_utc\"]\n",
    "        if time_delta > timedelta(hours=18):\n",
    "            continue\n",
    "        \n",
    "        # Extract comment\n",
    "        rows.append([\n",
    "            cmt[\"_id\"],\n",
    "            cmt[\"link_id\"],\n",
    "            cmt[\"parent_id\"],\n",
    "            cmt[\"score\"],\n",
    "            cmt[\"body\"],\n",
    "            cmt[\"label\"]\n",
    "        ])"
   ]
  },
  {
   "cell_type": "code",
   "execution_count": 35,
   "id": "e328b75f",
   "metadata": {},
   "outputs": [],
   "source": [
    "aitaf_comments = pd.DataFrame(rows, columns=columns)\n",
    "aitaf_comments.set_index(\"verdict_id\", inplace=True)"
   ]
  },
  {
   "cell_type": "code",
   "execution_count": 36,
   "id": "7314aef9",
   "metadata": {},
   "outputs": [
    {
     "data": {
      "text/plain": [
       "(490841, 5)"
      ]
     },
     "execution_count": 36,
     "metadata": {},
     "output_type": "execute_result"
    }
   ],
   "source": [
    "aitaf_comments.shape"
   ]
  },
  {
   "cell_type": "markdown",
   "id": "7885ae47",
   "metadata": {},
   "source": [
    "### Add moral foundation scores for posts and comments"
   ]
  },
  {
   "cell_type": "code",
   "execution_count": 47,
   "id": "fd10e081",
   "metadata": {},
   "outputs": [],
   "source": [
    "aita_posts_scores = pd.read_csv(\"data/aita/AITA Posts With Moral Foundations.csv\", index_col=\"_id\")"
   ]
  },
  {
   "cell_type": "code",
   "execution_count": 51,
   "id": "cfaa8e50",
   "metadata": {},
   "outputs": [],
   "source": [
    "aitaf_posts = aitaf_posts[aitaf_posts.index.isin(aita_posts_scores.index)]\n",
    "aitaf_comments = aitaf_comments[aitaf_comments.parent_id.isin(aitaf_posts.index)]"
   ]
  },
  {
   "cell_type": "code",
   "execution_count": 58,
   "id": "2d8d6d2c",
   "metadata": {
    "scrolled": true
   },
   "outputs": [
    {
     "name": "stderr",
     "output_type": "stream",
     "text": [
      "/tmp/ipykernel_24021/3198369833.py:2: SettingWithCopyWarning: \n",
      "A value is trying to be set on a copy of a slice from a DataFrame.\n",
      "Try using .loc[row_indexer,col_indexer] = value instead\n",
      "\n",
      "See the caveats in the documentation: https://pandas.pydata.org/pandas-docs/stable/user_guide/indexing.html#returning-a-view-versus-a-copy\n",
      "  aitaf_posts[f + \"_score\"] = \\\n"
     ]
    }
   ],
   "source": [
    "for f in FOUNDATIONS:\n",
    "    aitaf_posts[f + \"_score\"] = \\\n",
    "        aita_posts_scores.loc[aitaf_posts.index, f + \"_score\"].to_numpy()"
   ]
  },
  {
   "cell_type": "code",
   "execution_count": 70,
   "id": "1ecac2eb",
   "metadata": {},
   "outputs": [],
   "source": [
    "aitaf_comments[[f + \"_score\" for f in FOUNDATIONS]] = 0"
   ]
  },
  {
   "cell_type": "code",
   "execution_count": 72,
   "id": "25da68d3",
   "metadata": {
    "scrolled": true
   },
   "outputs": [
    {
     "name": "stderr",
     "output_type": "stream",
     "text": [
      "100%|██████████████████████████████████| 466485/466485 [13:52<00:00, 560.03it/s]\n"
     ]
    }
   ],
   "source": [
    "for cmt_id in tqdm(aitaf_comments.index):\n",
    "    cmt = cmts.find_one({\"_id\": cmt_id})\n",
    "    for f in FOUNDATIONS:\n",
    "        aitaf_comments.loc[cmt_id, f + \"_score\"] = cmt[\"mf_scores\"][f]"
   ]
  },
  {
   "cell_type": "markdown",
   "id": "11bec30c",
   "metadata": {},
   "source": [
    "## Find verdict for each post"
   ]
  },
  {
   "cell_type": "code",
   "execution_count": 38,
   "id": "dbfabffc",
   "metadata": {},
   "outputs": [
    {
     "name": "stderr",
     "output_type": "stream",
     "text": [
      "100%|███████████████████████████████████████| 2135/2135 [01:24<00:00, 25.21it/s]\n"
     ]
    }
   ],
   "source": [
    "aitaf_posts[\"verdict\"] = \"\"\n",
    "aitaf_posts[\"verdict_id\"] = \"\"\n",
    "for post_id in tqdm(aitaf_posts.index):\n",
    "    comments = aitaf_comments[aitaf_comments.link_id == post_id]\n",
    "    verdict_id = comments.index[np.argmax(comments[\"score\"])]\n",
    "    verdict = comments.loc[verdict_id, \"label\"]\n",
    "    aitaf_posts.loc[post_id, \"verdict\"] = verdict\n",
    "    aitaf_posts.loc[post_id, \"verdict_id\"] = verdict_id"
   ]
  },
  {
   "cell_type": "markdown",
   "id": "855ea6fe",
   "metadata": {},
   "source": [
    "### Save"
   ]
  },
  {
   "cell_type": "code",
   "execution_count": 39,
   "id": "b8d73501",
   "metadata": {},
   "outputs": [],
   "source": [
    "aitaf_posts.to_csv(\"data/aita/aita_filtered/aita_filtered_posts_with_MF_scores.csv\")\n",
    "aitaf_comments.to_csv(\"data/aita/aita_filtered/aita_filtered_comments_with_MF_scores.csv\")"
   ]
  },
  {
   "cell_type": "markdown",
   "id": "2c519a5c",
   "metadata": {},
   "source": [
    "## Load data"
   ]
  },
  {
   "cell_type": "code",
   "execution_count": 40,
   "id": "6f6258e8",
   "metadata": {},
   "outputs": [],
   "source": [
    "aitaf_posts = pd.read_csv(\"data/aita/aita_filtered/aita_filtered_posts_with_MF_scores.csv\", index_col=\"_id\")\n",
    "aitaf_comments = pd.read_csv(\"data/aita/aita_filtered/aita_filtered_comments_with_MF_scores.csv\",\n",
    "                             index_col=\"verdict_id\")"
   ]
  },
  {
   "cell_type": "markdown",
   "id": "26501dcb",
   "metadata": {},
   "source": [
    "## Turn scores to binary labels"
   ]
  },
  {
   "cell_type": "code",
   "execution_count": 41,
   "id": "9b5490e7",
   "metadata": {},
   "outputs": [],
   "source": [
    "def threshold_top_x(x, y_score):\n",
    "    assert 0 <= x and x <= 100\n",
    "    threshold = np.percentile(y_score, q=x)\n",
    "    y_pred = [y >= threshold for y in y_score]\n",
    "    return np.array(y_pred, dtype=int)"
   ]
  },
  {
   "cell_type": "code",
   "execution_count": 242,
   "id": "3af746d0",
   "metadata": {
    "scrolled": true
   },
   "outputs": [],
   "source": [
    "topx = 80\n",
    "for f in FOUNDATIONS:\n",
    "    aitaf_posts[f] = threshold_top_x(topx, aitaf_posts[f + \"_score\"])\n",
    "for f in FOUNDATIONS:\n",
    "    aitaf_comments[f] = threshold_top_x(topx, aitaf_comments[f + \"_score\"])"
   ]
  },
  {
   "cell_type": "markdown",
   "id": "cd5f20a4",
   "metadata": {},
   "source": [
    "## Odds that posts and verdicts containing the foundation"
   ]
  },
  {
   "cell_type": "code",
   "execution_count": 243,
   "id": "23f2696d",
   "metadata": {},
   "outputs": [],
   "source": [
    "aitaf_verdicts = aitaf_comments[aitaf_comments.index.isin(aitaf_posts[\"verdict_id\"])]"
   ]
  },
  {
   "cell_type": "code",
   "execution_count": 244,
   "id": "829eed77",
   "metadata": {},
   "outputs": [],
   "source": [
    "from sklearn.metrics.cluster import contingency_matrix\n",
    "from scipy.stats import fisher_exact\n",
    "from scipy.stats import norm\n",
    "def odds_ratios(matrix, ci=0.95, log=False):\n",
    "    # print(fisher_exact(matrix))\n",
    "    n00, n01 = matrix[0]\n",
    "    n10, n11 = matrix[1]\n",
    "    odds_ratio = (n11 * n00) / (n10 * n01)\n",
    "    lor = np.log(odds_ratio)\n",
    "    \n",
    "    se = np.sqrt(1/n00 + 1/n01 + 1/n10 + 1/n11)\n",
    "    \n",
    "    p_value = 2 * norm.cdf(-np.abs(lor) / se)\n",
    "    \n",
    "    z = np.abs(norm.ppf((1-ci) / 2))\n",
    "    \n",
    "    lower = np.exp(lor - z * se)\n",
    "    upper = np.exp(lor + z * se)\n",
    "    if log:\n",
    "        odds_ratio = np.log(odds_ratio)\n",
    "        lower = np.log(lower)\n",
    "        upper = np.log(upper)\n",
    "    return odds_ratio, (lower, upper), p_value"
   ]
  },
  {
   "cell_type": "code",
   "execution_count": 245,
   "id": "dc084c40",
   "metadata": {},
   "outputs": [],
   "source": [
    "odds_ratios_matrix = pd.DataFrame(0, index=FOUNDATIONS, columns=FOUNDATIONS)\n",
    "mask = pd.DataFrame(1, index=FOUNDATIONS, columns=FOUNDATIONS)\n",
    "for post_f in FOUNDATIONS:\n",
    "    for verdict_f in FOUNDATIONS:\n",
    "        matrix = contingency_matrix(aitaf_posts[post_f], \n",
    "                                    aitaf_verdicts[verdict_f])\n",
    "\n",
    "        o, ci, pv = odds_ratios(matrix, log=False)\n",
    "        if pv < 0.05:\n",
    "            mask.loc[post_f, verdict_f] = 0\n",
    "        odds_ratios_matrix.loc[post_f, verdict_f] = o"
   ]
  },
  {
   "cell_type": "code",
   "execution_count": 246,
   "id": "895d464a",
   "metadata": {},
   "outputs": [
    {
     "data": {
      "image/png": "[encoded data removed]",
      "text/plain": [
       "<Figure size 600x460 with 2 Axes>"
      ]
     },
     "metadata": {},
     "output_type": "display_data"
    }
   ],
   "source": [
    "import seaborn as sns\n",
    "plt.figure(figsize=(6, 4.6))\n",
    "ax = sns.heatmap(odds_ratios_matrix,                   # data\n",
    "                 mask=mask,                            # don't plot cells with inf vals\n",
    "                 square=True,                          # force cells to be square\n",
    "                 center=1,                             # val for center of the color bar\n",
    "                 vmin=odds_ratios_matrix.min().min(),# -np.abs(odds_ratios_matrix.max().max()),       # min val for color bar\n",
    "                 vmax=odds_ratios_matrix.max().max(),# np.abs(odds_ratios_matrix.max().max()),       # max val for color bar\n",
    "                 cmap=sns.diverging_palette(220, 20, as_cmap=True),                        # color map\n",
    "                 linewidth=0.003,                        # width of line separating cells\n",
    "                 linecolor=\"k\",                        # color of line separating cells\n",
    "                 annot=odds_ratios_matrix,\n",
    "                 cbar_kws=dict(use_gridspec=False,   # color bar customizations\n",
    "                               location=\"right\",\n",
    "                               shrink=1.0,\n",
    "                               pad=0.05,\n",
    "                               aspect=15,\n",
    "                              )\n",
    "                 )\n",
    "ax.tick_params(axis='y', which='major', labelsize=13, rotation=0, length=0)\n",
    "ax.tick_params(axis='x', which='major', labelsize=13, rotation=0, length=0)\n",
    "ax.set_xlabel(\"Foundation in verdict\", size=15, weight=\"bold\", labelpad=10)\n",
    "ax.set_ylabel(\"Foundation in post\", size=15, weight=\"bold\", labelpad=5)\n",
    "plt.show()"
   ]
  },
  {
   "cell_type": "markdown",
   "id": "15008888",
   "metadata": {},
   "source": [
    "## P(verdict contains f1 | post contains f2) "
   ]
  },
  {
   "cell_type": "code",
   "execution_count": 247,
   "id": "2205a915",
   "metadata": {},
   "outputs": [],
   "source": [
    "condprob = pd.DataFrame(0, dtype=float, columns=FOUNDATIONS, index=FOUNDATIONS)\n",
    "for post_f in FOUNDATIONS:\n",
    "    for verdict_f in FOUNDATIONS:\n",
    "        matrix = contingency_matrix(aitaf_posts[post_f], \n",
    "                                    aitaf_verdicts[verdict_f])\n",
    "        cond = (matrix / matrix.sum(1, keepdims=True))\n",
    "        cond = cond[1, 1]\n",
    "        condprob.loc[post_f, verdict_f] = cond"
   ]
  },
  {
   "cell_type": "code",
   "execution_count": 248,
   "id": "181fedd7",
   "metadata": {},
   "outputs": [
    {
     "data": {
      "image/png": "[encoded data removed]",
      "text/plain": [
       "<Figure size 600x460 with 2 Axes>"
      ]
     },
     "metadata": {},
     "output_type": "display_data"
    }
   ],
   "source": [
    "import seaborn as sns\n",
    "plt.figure(figsize=(6, 4.6))\n",
    "ax = sns.heatmap(condprob,\n",
    "                 vmin=0,\n",
    "                 vmax=1,\n",
    "                 cmap=sns.color_palette(\"YlOrBr\", as_cmap=True),\n",
    "                 linewidth=0.003,\n",
    "                 annot=condprob,\n",
    "                 )\n",
    "ax.tick_params(axis='y', which='major', labelsize=13, rotation=0, length=0)\n",
    "ax.tick_params(axis='x', which='major', labelsize=13, rotation=0, length=0)\n",
    "ax.set_xlabel(\"Foundation in verdict\", size=15, weight=\"bold\", labelpad=10)\n",
    "ax.set_ylabel(\"Foundation in post\", size=15, weight=\"bold\", labelpad=5)\n",
    "plt.show()"
   ]
  },
  {
   "cell_type": "markdown",
   "id": "5e02a6d8",
   "metadata": {},
   "source": [
    "## Choose one post with at least one foundation"
   ]
  },
  {
   "cell_type": "code",
   "execution_count": 249,
   "id": "3ad51080",
   "metadata": {
    "scrolled": false
   },
   "outputs": [
    {
     "data": {
      "text/plain": [
       "(135, 19)"
      ]
     },
     "execution_count": 249,
     "metadata": {},
     "output_type": "execute_result"
    }
   ],
   "source": [
    "aitaf_posts_mf = aitaf_posts[aitaf_posts[FOUNDATIONS].sum(1) == 3]\n",
    "aitaf_posts_mf.shape"
   ]
  },
  {
   "cell_type": "code",
   "execution_count": 250,
   "id": "079d35d1",
   "metadata": {
    "scrolled": true
   },
   "outputs": [
    {
     "data": {
      "text/html": [
       "<div>\n",
       "<style scoped>\n",
       "    .dataframe tbody tr th:only-of-type {\n",
       "        vertical-align: middle;\n",
       "    }\n",
       "\n",
       "    .dataframe tbody tr th {\n",
       "        vertical-align: top;\n",
       "    }\n",
       "\n",
       "    .dataframe thead th {\n",
       "        text-align: right;\n",
       "    }\n",
       "</style>\n",
       "<table border=\"1\" class=\"dataframe\">\n",
       "  <thead>\n",
       "    <tr style=\"text-align: right;\">\n",
       "      <th></th>\n",
       "      <th>title</th>\n",
       "      <th>selftext</th>\n",
       "      <th>score</th>\n",
       "      <th>YTA_count</th>\n",
       "      <th>NTA_count</th>\n",
       "      <th>ESH_count</th>\n",
       "      <th>NAH_count</th>\n",
       "      <th>authority_score</th>\n",
       "      <th>care_score</th>\n",
       "      <th>fairness_score</th>\n",
       "      <th>loyalty_score</th>\n",
       "      <th>sanctity_score</th>\n",
       "      <th>authority</th>\n",
       "      <th>care</th>\n",
       "      <th>fairness</th>\n",
       "      <th>loyalty</th>\n",
       "      <th>sanctity</th>\n",
       "      <th>verdict</th>\n",
       "      <th>verdict_id</th>\n",
       "    </tr>\n",
       "    <tr>\n",
       "      <th>_id</th>\n",
       "      <th></th>\n",
       "      <th></th>\n",
       "      <th></th>\n",
       "      <th></th>\n",
       "      <th></th>\n",
       "      <th></th>\n",
       "      <th></th>\n",
       "      <th></th>\n",
       "      <th></th>\n",
       "      <th></th>\n",
       "      <th></th>\n",
       "      <th></th>\n",
       "      <th></th>\n",
       "      <th></th>\n",
       "      <th></th>\n",
       "      <th></th>\n",
       "      <th></th>\n",
       "      <th></th>\n",
       "      <th></th>\n",
       "    </tr>\n",
       "  </thead>\n",
       "  <tbody>\n",
       "    <tr>\n",
       "      <th>dwrlls</th>\n",
       "      <td>AITA for outing my ex as gay after she told ev...</td>\n",
       "      <td>I know the title sounds absolutely terrible. \\...</td>\n",
       "      <td>33694</td>\n",
       "      <td>70</td>\n",
       "      <td>939</td>\n",
       "      <td>430</td>\n",
       "      <td>5</td>\n",
       "      <td>0.015385</td>\n",
       "      <td>0.820541</td>\n",
       "      <td>0.921484</td>\n",
       "      <td>0.730903</td>\n",
       "      <td>0.512868</td>\n",
       "      <td>0</td>\n",
       "      <td>0</td>\n",
       "      <td>1</td>\n",
       "      <td>1</td>\n",
       "      <td>1</td>\n",
       "      <td>NTA</td>\n",
       "      <td>f7kxlgr</td>\n",
       "    </tr>\n",
       "    <tr>\n",
       "      <th>e2nxtz</th>\n",
       "      <td>AITA for not allowing my father to meet my dyi...</td>\n",
       "      <td>I'm a 25 year old guy and my parents were in t...</td>\n",
       "      <td>26362</td>\n",
       "      <td>457</td>\n",
       "      <td>512</td>\n",
       "      <td>133</td>\n",
       "      <td>31</td>\n",
       "      <td>0.164208</td>\n",
       "      <td>0.944463</td>\n",
       "      <td>0.757979</td>\n",
       "      <td>0.529856</td>\n",
       "      <td>0.116859</td>\n",
       "      <td>0</td>\n",
       "      <td>1</td>\n",
       "      <td>1</td>\n",
       "      <td>1</td>\n",
       "      <td>0</td>\n",
       "      <td>NTA</td>\n",
       "      <td>f8wr91f</td>\n",
       "    </tr>\n",
       "    <tr>\n",
       "      <th>e1oy5c</th>\n",
       "      <td>AITA if I \"cancel\" Christmas because I can't a...</td>\n",
       "      <td>Title says it all, sole provider for family, a...</td>\n",
       "      <td>25428</td>\n",
       "      <td>297</td>\n",
       "      <td>298</td>\n",
       "      <td>3</td>\n",
       "      <td>309</td>\n",
       "      <td>0.056936</td>\n",
       "      <td>0.956702</td>\n",
       "      <td>0.736847</td>\n",
       "      <td>0.422432</td>\n",
       "      <td>0.169697</td>\n",
       "      <td>0</td>\n",
       "      <td>1</td>\n",
       "      <td>1</td>\n",
       "      <td>1</td>\n",
       "      <td>0</td>\n",
       "      <td>YTA</td>\n",
       "      <td>f8qwon2</td>\n",
       "    </tr>\n",
       "    <tr>\n",
       "      <th>byiwjh</th>\n",
       "      <td>AITA for exposing the real reason my sister an...</td>\n",
       "      <td>throwaway, and I will be keeping this is Anony...</td>\n",
       "      <td>25376</td>\n",
       "      <td>233</td>\n",
       "      <td>424</td>\n",
       "      <td>180</td>\n",
       "      <td>6</td>\n",
       "      <td>0.044337</td>\n",
       "      <td>0.684629</td>\n",
       "      <td>0.812260</td>\n",
       "      <td>0.693170</td>\n",
       "      <td>0.422051</td>\n",
       "      <td>0</td>\n",
       "      <td>0</td>\n",
       "      <td>1</td>\n",
       "      <td>1</td>\n",
       "      <td>1</td>\n",
       "      <td>NTA</td>\n",
       "      <td>eqi1jkm</td>\n",
       "    </tr>\n",
       "    <tr>\n",
       "      <th>dfp1yq</th>\n",
       "      <td>AITA for surrendering my sister's child to pro...</td>\n",
       "      <td>I'm 26M, my sister is 28F. We're the only fami...</td>\n",
       "      <td>21225</td>\n",
       "      <td>414</td>\n",
       "      <td>336</td>\n",
       "      <td>69</td>\n",
       "      <td>120</td>\n",
       "      <td>0.476049</td>\n",
       "      <td>0.932830</td>\n",
       "      <td>0.233766</td>\n",
       "      <td>0.570902</td>\n",
       "      <td>0.093727</td>\n",
       "      <td>1</td>\n",
       "      <td>1</td>\n",
       "      <td>0</td>\n",
       "      <td>1</td>\n",
       "      <td>0</td>\n",
       "      <td>NTA</td>\n",
       "      <td>f34x191</td>\n",
       "    </tr>\n",
       "    <tr>\n",
       "      <th>d6v6mz</th>\n",
       "      <td>AITA for kicking my husband out of the house b...</td>\n",
       "      <td>My husband hid $1500 (some insurance payout) f...</td>\n",
       "      <td>19872</td>\n",
       "      <td>125</td>\n",
       "      <td>913</td>\n",
       "      <td>301</td>\n",
       "      <td>19</td>\n",
       "      <td>0.023280</td>\n",
       "      <td>0.952775</td>\n",
       "      <td>0.799527</td>\n",
       "      <td>0.340265</td>\n",
       "      <td>0.152243</td>\n",
       "      <td>0</td>\n",
       "      <td>1</td>\n",
       "      <td>1</td>\n",
       "      <td>1</td>\n",
       "      <td>0</td>\n",
       "      <td>NTA</td>\n",
       "      <td>f0vo7t7</td>\n",
       "    </tr>\n",
       "    <tr>\n",
       "      <th>e0utnu</th>\n",
       "      <td>AITA for not reacting well when I found out my...</td>\n",
       "      <td>I (26F) was married to “Sam” (30M) for three y...</td>\n",
       "      <td>19843</td>\n",
       "      <td>352</td>\n",
       "      <td>197</td>\n",
       "      <td>133</td>\n",
       "      <td>43</td>\n",
       "      <td>0.015536</td>\n",
       "      <td>0.773847</td>\n",
       "      <td>0.697255</td>\n",
       "      <td>0.787457</td>\n",
       "      <td>0.296965</td>\n",
       "      <td>0</td>\n",
       "      <td>0</td>\n",
       "      <td>1</td>\n",
       "      <td>1</td>\n",
       "      <td>1</td>\n",
       "      <td>NAH</td>\n",
       "      <td>f8hmy0u</td>\n",
       "    </tr>\n",
       "    <tr>\n",
       "      <th>bhdnls</th>\n",
       "      <td>AITA for sending an explicit video my ex sent ...</td>\n",
       "      <td>Hi AITA. I am going to try to make this as bri...</td>\n",
       "      <td>19240</td>\n",
       "      <td>45</td>\n",
       "      <td>385</td>\n",
       "      <td>296</td>\n",
       "      <td>1</td>\n",
       "      <td>0.021499</td>\n",
       "      <td>0.896185</td>\n",
       "      <td>0.386485</td>\n",
       "      <td>0.534503</td>\n",
       "      <td>0.433282</td>\n",
       "      <td>0</td>\n",
       "      <td>1</td>\n",
       "      <td>0</td>\n",
       "      <td>1</td>\n",
       "      <td>1</td>\n",
       "      <td>ESH</td>\n",
       "      <td>elrys9q</td>\n",
       "    </tr>\n",
       "    <tr>\n",
       "      <th>e1622e</th>\n",
       "      <td>AITA for turning my son into the police?</td>\n",
       "      <td>My 16 year old son was catfishing people on th...</td>\n",
       "      <td>15209</td>\n",
       "      <td>584</td>\n",
       "      <td>480</td>\n",
       "      <td>199</td>\n",
       "      <td>7</td>\n",
       "      <td>0.777576</td>\n",
       "      <td>0.947298</td>\n",
       "      <td>0.781017</td>\n",
       "      <td>0.025749</td>\n",
       "      <td>0.230440</td>\n",
       "      <td>1</td>\n",
       "      <td>1</td>\n",
       "      <td>1</td>\n",
       "      <td>0</td>\n",
       "      <td>0</td>\n",
       "      <td>NTA</td>\n",
       "      <td>f8mu06l</td>\n",
       "    </tr>\n",
       "    <tr>\n",
       "      <th>bvnava</th>\n",
       "      <td>AITA for grounding my son for the rest of the ...</td>\n",
       "      <td>Two days ago, my 16 year old son came to my wi...</td>\n",
       "      <td>14701</td>\n",
       "      <td>394</td>\n",
       "      <td>593</td>\n",
       "      <td>124</td>\n",
       "      <td>40</td>\n",
       "      <td>0.369038</td>\n",
       "      <td>0.897831</td>\n",
       "      <td>0.527328</td>\n",
       "      <td>0.065012</td>\n",
       "      <td>0.384918</td>\n",
       "      <td>1</td>\n",
       "      <td>1</td>\n",
       "      <td>0</td>\n",
       "      <td>0</td>\n",
       "      <td>1</td>\n",
       "      <td>NTA</td>\n",
       "      <td>epqqwg0</td>\n",
       "    </tr>\n",
       "    <tr>\n",
       "      <th>dflphm</th>\n",
       "      <td>WIBTA for exposing my late wife to my sons?</td>\n",
       "      <td>Please bear with me while I try to gather my t...</td>\n",
       "      <td>14436</td>\n",
       "      <td>360</td>\n",
       "      <td>214</td>\n",
       "      <td>30</td>\n",
       "      <td>59</td>\n",
       "      <td>0.046172</td>\n",
       "      <td>0.970801</td>\n",
       "      <td>0.343796</td>\n",
       "      <td>0.518697</td>\n",
       "      <td>0.464379</td>\n",
       "      <td>0</td>\n",
       "      <td>1</td>\n",
       "      <td>0</td>\n",
       "      <td>1</td>\n",
       "      <td>1</td>\n",
       "      <td>YTA</td>\n",
       "      <td>f33z67p</td>\n",
       "    </tr>\n",
       "    <tr>\n",
       "      <th>cgd82t</th>\n",
       "      <td>AITA For Never Telling My Son About The Exista...</td>\n",
       "      <td>My 4 year old son Jon is the one of the twins ...</td>\n",
       "      <td>14314</td>\n",
       "      <td>613</td>\n",
       "      <td>198</td>\n",
       "      <td>22</td>\n",
       "      <td>358</td>\n",
       "      <td>0.306856</td>\n",
       "      <td>0.909546</td>\n",
       "      <td>0.242446</td>\n",
       "      <td>0.441828</td>\n",
       "      <td>0.057659</td>\n",
       "      <td>1</td>\n",
       "      <td>1</td>\n",
       "      <td>0</td>\n",
       "      <td>1</td>\n",
       "      <td>0</td>\n",
       "      <td>YTA</td>\n",
       "      <td>eug86wa</td>\n",
       "    </tr>\n",
       "    <tr>\n",
       "      <th>cf1lbg</th>\n",
       "      <td>WIBTA if I stopped inviting my triggered frien...</td>\n",
       "      <td>Tdlr at the bottom\\n\\nEvery couple of weeks me...</td>\n",
       "      <td>13732</td>\n",
       "      <td>197</td>\n",
       "      <td>271</td>\n",
       "      <td>16</td>\n",
       "      <td>135</td>\n",
       "      <td>0.018829</td>\n",
       "      <td>0.972018</td>\n",
       "      <td>0.248135</td>\n",
       "      <td>0.727986</td>\n",
       "      <td>0.294328</td>\n",
       "      <td>0</td>\n",
       "      <td>1</td>\n",
       "      <td>0</td>\n",
       "      <td>1</td>\n",
       "      <td>1</td>\n",
       "      <td>YTA</td>\n",
       "      <td>eu6jzrg</td>\n",
       "    </tr>\n",
       "    <tr>\n",
       "      <th>dn2p9i</th>\n",
       "      <td>AITA for telling my friend the real reason I d...</td>\n",
       "      <td>I’ve asked my friends, and they are genuinely ...</td>\n",
       "      <td>13172</td>\n",
       "      <td>137</td>\n",
       "      <td>184</td>\n",
       "      <td>127</td>\n",
       "      <td>27</td>\n",
       "      <td>0.295297</td>\n",
       "      <td>0.754463</td>\n",
       "      <td>0.158783</td>\n",
       "      <td>0.466340</td>\n",
       "      <td>0.550746</td>\n",
       "      <td>1</td>\n",
       "      <td>0</td>\n",
       "      <td>0</td>\n",
       "      <td>1</td>\n",
       "      <td>1</td>\n",
       "      <td>ESH</td>\n",
       "      <td>f578uj5</td>\n",
       "    </tr>\n",
       "    <tr>\n",
       "      <th>ajl6q1</th>\n",
       "      <td>AITA For telling my wife I will divorce her if...</td>\n",
       "      <td>Me and my wife have been married two years. Sh...</td>\n",
       "      <td>12527</td>\n",
       "      <td>50</td>\n",
       "      <td>213</td>\n",
       "      <td>64</td>\n",
       "      <td>8</td>\n",
       "      <td>0.312090</td>\n",
       "      <td>0.714552</td>\n",
       "      <td>0.835819</td>\n",
       "      <td>0.383179</td>\n",
       "      <td>0.257962</td>\n",
       "      <td>1</td>\n",
       "      <td>0</td>\n",
       "      <td>1</td>\n",
       "      <td>1</td>\n",
       "      <td>0</td>\n",
       "      <td>NTA</td>\n",
       "      <td>eewgbsw</td>\n",
       "    </tr>\n",
       "  </tbody>\n",
       "</table>\n",
       "</div>"
      ],
      "text/plain": [
       "                                                    title  \\\n",
       "_id                                                         \n",
       "dwrlls  AITA for outing my ex as gay after she told ev...   \n",
       "e2nxtz  AITA for not allowing my father to meet my dyi...   \n",
       "e1oy5c  AITA if I \"cancel\" Christmas because I can't a...   \n",
       "byiwjh  AITA for exposing the real reason my sister an...   \n",
       "dfp1yq  AITA for surrendering my sister's child to pro...   \n",
       "d6v6mz  AITA for kicking my husband out of the house b...   \n",
       "e0utnu  AITA for not reacting well when I found out my...   \n",
       "bhdnls  AITA for sending an explicit video my ex sent ...   \n",
       "e1622e           AITA for turning my son into the police?   \n",
       "bvnava  AITA for grounding my son for the rest of the ...   \n",
       "dflphm        WIBTA for exposing my late wife to my sons?   \n",
       "cgd82t  AITA For Never Telling My Son About The Exista...   \n",
       "cf1lbg  WIBTA if I stopped inviting my triggered frien...   \n",
       "dn2p9i  AITA for telling my friend the real reason I d...   \n",
       "ajl6q1  AITA For telling my wife I will divorce her if...   \n",
       "\n",
       "                                                 selftext  score  YTA_count  \\\n",
       "_id                                                                           \n",
       "dwrlls  I know the title sounds absolutely terrible. \\...  33694         70   \n",
       "e2nxtz  I'm a 25 year old guy and my parents were in t...  26362        457   \n",
       "e1oy5c  Title says it all, sole provider for family, a...  25428        297   \n",
       "byiwjh  throwaway, and I will be keeping this is Anony...  25376        233   \n",
       "dfp1yq  I'm 26M, my sister is 28F. We're the only fami...  21225        414   \n",
       "d6v6mz  My husband hid $1500 (some insurance payout) f...  19872        125   \n",
       "e0utnu  I (26F) was married to “Sam” (30M) for three y...  19843        352   \n",
       "bhdnls  Hi AITA. I am going to try to make this as bri...  19240         45   \n",
       "e1622e  My 16 year old son was catfishing people on th...  15209        584   \n",
       "bvnava  Two days ago, my 16 year old son came to my wi...  14701        394   \n",
       "dflphm  Please bear with me while I try to gather my t...  14436        360   \n",
       "cgd82t  My 4 year old son Jon is the one of the twins ...  14314        613   \n",
       "cf1lbg  Tdlr at the bottom\\n\\nEvery couple of weeks me...  13732        197   \n",
       "dn2p9i  I’ve asked my friends, and they are genuinely ...  13172        137   \n",
       "ajl6q1  Me and my wife have been married two years. Sh...  12527         50   \n",
       "\n",
       "        NTA_count  ESH_count  NAH_count  authority_score  care_score  \\\n",
       "_id                                                                    \n",
       "dwrlls        939        430          5         0.015385    0.820541   \n",
       "e2nxtz        512        133         31         0.164208    0.944463   \n",
       "e1oy5c        298          3        309         0.056936    0.956702   \n",
       "byiwjh        424        180          6         0.044337    0.684629   \n",
       "dfp1yq        336         69        120         0.476049    0.932830   \n",
       "d6v6mz        913        301         19         0.023280    0.952775   \n",
       "e0utnu        197        133         43         0.015536    0.773847   \n",
       "bhdnls        385        296          1         0.021499    0.896185   \n",
       "e1622e        480        199          7         0.777576    0.947298   \n",
       "bvnava        593        124         40         0.369038    0.897831   \n",
       "dflphm        214         30         59         0.046172    0.970801   \n",
       "cgd82t        198         22        358         0.306856    0.909546   \n",
       "cf1lbg        271         16        135         0.018829    0.972018   \n",
       "dn2p9i        184        127         27         0.295297    0.754463   \n",
       "ajl6q1        213         64          8         0.312090    0.714552   \n",
       "\n",
       "        fairness_score  loyalty_score  sanctity_score  authority  care  \\\n",
       "_id                                                                      \n",
       "dwrlls        0.921484       0.730903        0.512868          0     0   \n",
       "e2nxtz        0.757979       0.529856        0.116859          0     1   \n",
       "e1oy5c        0.736847       0.422432        0.169697          0     1   \n",
       "byiwjh        0.812260       0.693170        0.422051          0     0   \n",
       "dfp1yq        0.233766       0.570902        0.093727          1     1   \n",
       "d6v6mz        0.799527       0.340265        0.152243          0     1   \n",
       "e0utnu        0.697255       0.787457        0.296965          0     0   \n",
       "bhdnls        0.386485       0.534503        0.433282          0     1   \n",
       "e1622e        0.781017       0.025749        0.230440          1     1   \n",
       "bvnava        0.527328       0.065012        0.384918          1     1   \n",
       "dflphm        0.343796       0.518697        0.464379          0     1   \n",
       "cgd82t        0.242446       0.441828        0.057659          1     1   \n",
       "cf1lbg        0.248135       0.727986        0.294328          0     1   \n",
       "dn2p9i        0.158783       0.466340        0.550746          1     0   \n",
       "ajl6q1        0.835819       0.383179        0.257962          1     0   \n",
       "\n",
       "        fairness  loyalty  sanctity verdict verdict_id  \n",
       "_id                                                     \n",
       "dwrlls         1        1         1     NTA    f7kxlgr  \n",
       "e2nxtz         1        1         0     NTA    f8wr91f  \n",
       "e1oy5c         1        1         0     YTA    f8qwon2  \n",
       "byiwjh         1        1         1     NTA    eqi1jkm  \n",
       "dfp1yq         0        1         0     NTA    f34x191  \n",
       "d6v6mz         1        1         0     NTA    f0vo7t7  \n",
       "e0utnu         1        1         1     NAH    f8hmy0u  \n",
       "bhdnls         0        1         1     ESH    elrys9q  \n",
       "e1622e         1        0         0     NTA    f8mu06l  \n",
       "bvnava         0        0         1     NTA    epqqwg0  \n",
       "dflphm         0        1         1     YTA    f33z67p  \n",
       "cgd82t         0        1         0     YTA    eug86wa  \n",
       "cf1lbg         0        1         1     YTA    eu6jzrg  \n",
       "dn2p9i         0        1         1     ESH    f578uj5  \n",
       "ajl6q1         1        1         0     NTA    eewgbsw  "
      ]
     },
     "execution_count": 250,
     "metadata": {},
     "output_type": "execute_result"
    }
   ],
   "source": [
    "aitaf_posts_mf.sort_values(\"score\", ascending=False).head(15)"
   ]
  },
  {
   "cell_type": "code",
   "execution_count": 257,
   "id": "00b41f81",
   "metadata": {
    "scrolled": true
   },
   "outputs": [
    {
     "name": "stdout",
     "output_type": "stream",
     "text": [
      "AITA for exposing the real reason my sister and her bf broke up. \n",
      "\n",
      "throwaway, and I will be keeping this is Anonymous as I can, every name will be fake. \n",
      "\n",
      "my sister (cas) 25f and her boyfriend (jon) of 3 years 24m broke up last week, I'm good friends with jon and we chat in a discord server often. I assumed it was a mutual breakup and so asked Jon if he was doing ok, he then asked me if I knew the reason they broke up. I said no and he explained that it was because he was bisexual, he even showed me screenshots where it showed how homophobic my sister is, I was shocked and apologized to him. \n",
      "\n",
      "the next day I was scrolling through Facebook and noticed my sister had made a post about the breakup, turns out she is claiming that he cheated on her. she must of blocked him so he could not show the actual truth. \n",
      "\n",
      "with Jon's permission I posted all the screenshots on my Facebook page. \n",
      " it caused my parents to call me and tell me I have to take the post down as my sister has had over 30 people unfriend her, I've also had messages from my sister that where not so nice. my mum has told me that I'm now ruining my sisters life. \n",
      "\n",
      "AITA?\n",
      "\n",
      "edit 1 \n",
      "I've seen no proof of my sisters claims besides her word. and from what the screenshots showed she absolutely hated the fact that he was bi and wanted nothing to do with him.\n",
      "\n",
      " ================================================================================ \n",
      "\n",
      "YA judgments: N = 413\n",
      "NA judgments: N = 430\n"
     ]
    }
   ],
   "source": [
    "post_id = \"byiwjh\"\n",
    "post = subs.find_one({\"_id\": post_id})\n",
    "print(post[\"title\"], \"\\n\")\n",
    "print(post[\"selftext\"])\n",
    "print(\"\\n\", \"=\" * 80, \"\\n\")\n",
    "comments = aitaf_comments[aitaf_comments.link_id == post_id]\n",
    "ya_comments = comments[comments.label.isin([\"YTA\", \"ESH\"])]\n",
    "na_comments = comments[comments.label.isin([\"NTA\", \"NAH\"])]\n",
    "print(\"YA judgments: N =\", ya_comments.shape[0])\n",
    "print(\"NA judgments: N =\", na_comments.shape[0])"
   ]
  },
  {
   "cell_type": "code",
   "execution_count": 258,
   "id": "8a871abf",
   "metadata": {},
   "outputs": [
    {
     "name": "stdout",
     "output_type": "stream",
     "text": [
      "authority\n",
      "  statistic: -1.8371594926382337\n",
      "  pvalue   : 0.06653904557583401\n",
      "care\n",
      "  statistic: 0.6316361939907431\n",
      "  pvalue   : 0.5277962758108004\n",
      "fairness\n",
      "  statistic: -2.235188319708884\n",
      "  pvalue   : 0.025666803397650862\n",
      "loyalty\n",
      "  statistic: 4.383743186674081\n",
      "  pvalue   : 1.3142873953968184e-05\n",
      "sanctity\n",
      "  statistic: 1.2762429641046027\n",
      "  pvalue   : 0.20222197441787232\n"
     ]
    }
   ],
   "source": [
    "from scipy.stats import ttest_ind\n",
    "for f in FOUNDATIONS:\n",
    "    print(f)\n",
    "    result = ttest_ind(ya_comments[f], na_comments[f])\n",
    "    print(\"  statistic:\", result.statistic)\n",
    "    print(\"  pvalue   :\", result.pvalue)"
   ]
  },
  {
   "cell_type": "code",
   "execution_count": 259,
   "id": "7e658f4c",
   "metadata": {},
   "outputs": [
    {
     "name": "stdout",
     "output_type": "stream",
     "text": [
      "sanctity 1.1943251726302573\n",
      "loyalty 1.8309655519235604\n",
      "fairness 0.7338918030219995\n",
      "care 1.130850047755492\n",
      "authority 0.5074626865671642\n"
     ]
    },
    {
     "data": {
      "image/png": "[encoded data removed]",
      "text/plain": [
       "<Figure size 300x500 with 1 Axes>"
      ]
     },
     "metadata": {},
     "output_type": "display_data"
    }
   ],
   "source": [
    "ors = []\n",
    "pvalues = []\n",
    "cis = []\n",
    "fs = []\n",
    "ya_binary = np.array([1 for _ in range(len(ya_comments))] + \n",
    "                     [0 for _ in range(len(na_comments))])\n",
    "for f in FOUNDATIONS[::-1]:\n",
    "    matrix = contingency_matrix(\n",
    "        ya_binary,\n",
    "        np.hstack((ya_comments[f], na_comments[f]))\n",
    "    )\n",
    "    o, ci, pv = odds_ratios(matrix)\n",
    "    print(f, o)\n",
    "    ors.append(o)\n",
    "    cis.append(ci)\n",
    "    pvalues.append(pv)\n",
    "    fs.append(f)\n",
    "\n",
    "plt.figure(figsize=(3, 5))\n",
    "for i, f, o, p, ci in zip(range(len(fs)), fs, ors, pvalues, cis):\n",
    "    plt.scatter(o, f, c='r' if p < 0.05 else \"k\")\n",
    "    plt.plot((ci[0], ci[1]), (f, f), c='r' if p < 0.05 else \"k\")\n",
    "plt.gca().set_xlim(left=0)\n",
    "plt.grid(axis=\"x\", alpha=0.5)\n",
    "plt.yticks([0, 1, 2, 3, 4], [\"Authority\", \"Care\", \"Fairness\", \"Loyalty\", \"Sanctity\"][::-1])\n",
    "plt.plot((1, 1), (-0.2, 5.2), c=\"k\", linestyle=\"--\")\n",
    "plt.ylim([-0.3, 4.3])\n",
    "sns.despine()"
   ]
  },
  {
   "cell_type": "markdown",
   "id": "fb06e938",
   "metadata": {},
   "source": [
    "### Count how many posts contain significant odds ratios on two sides of 1"
   ]
  },
  {
   "cell_type": "code",
   "execution_count": 210,
   "id": "6819e0b8",
   "metadata": {},
   "outputs": [
    {
     "name": "stderr",
     "output_type": "stream",
     "text": [
      "100%|███████████████████████████████████████| 2135/2135 [01:27<00:00, 24.47it/s]\n"
     ]
    }
   ],
   "source": [
    "count = 0\n",
    "for post_id in tqdm(aitaf_posts.index):\n",
    "    comments = aitaf_comments[aitaf_comments.link_id == post_id]\n",
    "    ya_comments = comments[comments.label.isin([\"YTA\", \"ESH\"])]\n",
    "    na_comments = comments[comments.label.isin([\"NTA\", \"NAH\"])]\n",
    "    \n",
    "    ya_binary = np.array([1 for _ in range(len(ya_comments))] + \n",
    "                         [0 for _ in range(len(na_comments))])\n",
    "    lt1, gt1 = 0, 0\n",
    "    for f in FOUNDATIONS[::-1]:\n",
    "        f_binary = np.hstack((ya_comments[f], na_comments[f]))\n",
    "        if f_binary.sum() <= 0: continue\n",
    "        matrix = contingency_matrix(ya_binary, f_binary)\n",
    "        if matrix.min().min() <= 0: continue\n",
    "        o, ci, pv = odds_ratios(matrix)\n",
    "        if pv < 0.05:\n",
    "            if o > 1: gt1 += 1\n",
    "            else: lt1 += 1\n",
    "    count += gt1 * lt1 > 0"
   ]
  },
  {
   "cell_type": "code",
   "execution_count": 211,
   "id": "c1134a65",
   "metadata": {},
   "outputs": [
    {
     "data": {
      "text/plain": [
       "0.117096018735363"
      ]
     },
     "execution_count": 211,
     "metadata": {},
     "output_type": "execute_result"
    }
   ],
   "source": [
    "count / aitaf_posts.shape[0]"
   ]
  },
  {
   "cell_type": "code",
   "execution_count": null,
   "id": "0c6f57d4",
   "metadata": {},
   "outputs": [],
   "source": []
  },
  {
   "cell_type": "code",
   "execution_count": null,
   "id": "0261796c",
   "metadata": {},
   "outputs": [],
   "source": []
  },
  {
   "cell_type": "code",
   "execution_count": null,
   "id": "fd212f01",
   "metadata": {},
   "outputs": [],
   "source": []
  }
 ],
 "metadata": {
  "kernelspec": {
   "display_name": "Python 3 (ipykernel)",
   "language": "python",
   "name": "python3"
  },
  "language_info": {
   "codemirror_mode": {
    "name": "ipython",
    "version": 3
   },
   "file_extension": ".py",
   "mimetype": "text/x-python",
   "name": "python",
   "nbconvert_exporter": "python",
   "pygments_lexer": "ipython3",
   "version": "3.8.5"
  }
 },
 "nbformat": 4,
 "nbformat_minor": 5
}

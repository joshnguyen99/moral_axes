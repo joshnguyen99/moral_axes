{
 "cells": [
  {
   "cell_type": "markdown",
   "id": "45c7c0eb",
   "metadata": {},
   "source": [
    "# MFD, MFD 2.0 and eMFD\n",
    "\n",
    "Profile of these dictionaries. Used for the Venn diagram."
   ]
  },
  {
   "cell_type": "code",
   "execution_count": 1,
   "id": "667cfaef",
   "metadata": {},
   "outputs": [],
   "source": [
    "import json\n",
    "import pandas as pd\n",
    "import os"
   ]
  },
  {
   "cell_type": "code",
   "execution_count": 2,
   "id": "658635c7",
   "metadata": {},
   "outputs": [],
   "source": [
    "MFD_PATH = os.path.join(\"mfd\", \"data\", \"lexicons\", \"mfd_original.json\")\n",
    "assert os.path.exists(MFD_PATH), f\"{MFD_PATH} does not exist\"\n",
    "with open(MFD_PATH, \"r\") as f:\n",
    "    MFD = json.load(f)\n",
    "\n",
    "MFD2_PATH = os.path.join(\"mfd\", \"data\", \"lexicons\", \"mfd2.json\")\n",
    "assert os.path.exists(MFD2_PATH), f\"{MFD2_PATH} does not exist\"\n",
    "with open(MFD2_PATH, \"r\") as f:\n",
    "    MFD2 = json.load(f)\n",
    "\n",
    "EMFD_PATH = os.path.join(\"mfd\", \"data\", \"lexicons\", \"eMFD_wordlist.csv\")\n",
    "assert os.path.exists(EMFD_PATH), f\"{EMFD_PATH} does not exist\"\n",
    "with open(EMFD_PATH, \"r\") as f:\n",
    "    EMFD = pd.read_csv(EMFD_PATH, index_col=\"word\")"
   ]
  },
  {
   "cell_type": "code",
   "execution_count": 3,
   "id": "1062ea0e",
   "metadata": {},
   "outputs": [
    {
     "name": "stdout",
     "output_type": "stream",
     "text": [
      "MFD 591\n",
      "MFD 2.0 2040\n",
      "eMFD 3270\n"
     ]
    }
   ],
   "source": [
    "print(\"MFD\", len(MFD))\n",
    "print(\"MFD 2.0\", len(MFD2))\n",
    "print(\"eMFD\", len(EMFD))"
   ]
  },
  {
   "cell_type": "code",
   "execution_count": 4,
   "id": "49e39b40",
   "metadata": {},
   "outputs": [],
   "source": [
    "mfd = set(MFD.keys())\n",
    "mfd2 = set(MFD2.keys())\n",
    "emfd = set(EMFD.index)"
   ]
  },
  {
   "cell_type": "code",
   "execution_count": 5,
   "id": "5fba2d57",
   "metadata": {},
   "outputs": [
    {
     "name": "stdout",
     "output_type": "stream",
     "text": [
      "248\n"
     ]
    }
   ],
   "source": [
    "# MFD only\n",
    "mfd_only = set.difference(set.difference(mfd, mfd2), emfd)\n",
    "print(len(mfd_only))\n",
    "# print(sorted(mfd_only))"
   ]
  },
  {
   "cell_type": "code",
   "execution_count": 6,
   "id": "680cc64f",
   "metadata": {
    "scrolled": false
   },
   "outputs": [
    {
     "name": "stdout",
     "output_type": "stream",
     "text": [
      "1567\n"
     ]
    }
   ],
   "source": [
    "# MFD2 only\n",
    "mfd2_only = set.difference(set.difference(mfd2, mfd), emfd)\n",
    "print(len(mfd2_only))\n",
    "# print(sorted(mfd2_only))"
   ]
  },
  {
   "cell_type": "code",
   "execution_count": 7,
   "id": "9a6e2902",
   "metadata": {},
   "outputs": [
    {
     "name": "stdout",
     "output_type": "stream",
     "text": [
      "2928\n"
     ]
    }
   ],
   "source": [
    "# eMFD only\n",
    "emfd_only = set.difference(set.difference(emfd, mfd), mfd2)\n",
    "print(len(emfd_only))"
   ]
  },
  {
   "cell_type": "code",
   "execution_count": 8,
   "id": "b747d5db",
   "metadata": {
    "scrolled": true
   },
   "outputs": [
    {
     "name": "stdout",
     "output_type": "stream",
     "text": [
      "193\n"
     ]
    }
   ],
   "source": [
    "# MFD and MFD2 but not eMFD\n",
    "mfd_mfd2 = set.difference(set.intersection(mfd, mfd2), emfd)\n",
    "print(len(mfd_mfd2))"
   ]
  },
  {
   "cell_type": "code",
   "execution_count": 9,
   "id": "f28de0ef",
   "metadata": {},
   "outputs": [
    {
     "name": "stdout",
     "output_type": "stream",
     "text": [
      "62\n"
     ]
    }
   ],
   "source": [
    "# MFD and eMFD but not MFD2\n",
    "mfd_emfd = set.difference(set.intersection(emfd, mfd), mfd2)\n",
    "print(len(mfd_emfd))"
   ]
  },
  {
   "cell_type": "code",
   "execution_count": 10,
   "id": "2a67c5ec",
   "metadata": {},
   "outputs": [
    {
     "name": "stdout",
     "output_type": "stream",
     "text": [
      "192\n"
     ]
    }
   ],
   "source": [
    "# MFD2 and eMFD but not MFD\n",
    "mfd2_emfd = set.difference(set.intersection(emfd, mfd2), mfd)\n",
    "print(len(mfd2_emfd))"
   ]
  },
  {
   "cell_type": "code",
   "execution_count": 11,
   "id": "2b278c85",
   "metadata": {},
   "outputs": [
    {
     "name": "stdout",
     "output_type": "stream",
     "text": [
      "88\n"
     ]
    }
   ],
   "source": [
    "# Intersection of all\n",
    "mfd_mfd2_emfd = set.intersection(mfd, mfd2, emfd)\n",
    "print(len(mfd_mfd2_emfd))"
   ]
  },
  {
   "cell_type": "code",
   "execution_count": null,
   "id": "e6b674dc",
   "metadata": {},
   "outputs": [],
   "source": []
  }
 ],
 "metadata": {
  "kernelspec": {
   "display_name": "Python 3 (ipykernel)",
   "language": "python",
   "name": "python3"
  },
  "language_info": {
   "codemirror_mode": {
    "name": "ipython",
    "version": 3
   },
   "file_extension": ".py",
   "mimetype": "text/x-python",
   "name": "python",
   "nbconvert_exporter": "python",
   "pygments_lexer": "ipython3",
   "version": "3.8.5"
  }
 },
 "nbformat": 4,
 "nbformat_minor": 5
}
